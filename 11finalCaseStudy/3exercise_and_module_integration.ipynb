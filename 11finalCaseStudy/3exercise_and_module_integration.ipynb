{
 "cells": [
  {
   "cell_type": "markdown",
   "id": "43a496bb",
   "metadata": {},
   "source": [
    "# Absenteeism Exercise - Integration"
   ]
  },
  {
   "cell_type": "code",
   "execution_count": null,
   "id": "94f95b01",
   "metadata": {},
   "outputs": [],
   "source": [
    "from absenteeism_module import *\n",
    "\n",
    "pd.read_csv('3absenteeism_new_data.csv')\n",
    "new_data_location = '3absenteeism_new_data.csv'\n",
    "model = absenteeism_model('model.pkl', 'scaler.pkl')\n",
    "\n",
    "model.load_and_clean_data(new_data_location)\n",
    "model.predicted_outputs().to_csv('4absenteeism_predictions.csv', index=False)"
   ]
  }
 ],
 "metadata": {
  "kernelspec": {
   "display_name": "Python 3",
   "language": "python",
   "name": "python3"
  },
  "language_info": {
   "codemirror_mode": {
    "name": "ipython",
    "version": 3
   },
   "file_extension": ".py",
   "mimetype": "text/x-python",
   "name": "python",
   "nbconvert_exporter": "python",
   "pygments_lexer": "ipython3",
   "version": "3.12.3"
  }
 },
 "nbformat": 4,
 "nbformat_minor": 5
}
